{
 "cells": [
  {
   "cell_type": "code",
   "execution_count": 1,
   "metadata": {},
   "outputs": [],
   "source": [
    "import pandas as pd\n",
    "pd.set_option(\"display.max_colwidth\", 200)\n",
    "import glob\n",
    "import os\n",
    "import pickle"
   ]
  },
  {
   "cell_type": "markdown",
   "metadata": {},
   "source": [
    "### System-level data"
   ]
  },
  {
   "cell_type": "code",
   "execution_count": 2,
   "metadata": {
    "scrolled": true
   },
   "outputs": [
    {
     "data": {
      "text/plain": [
       "system         203012\n",
       "sid            203012\n",
       "raw_score      203012\n",
       "score          203012\n",
       "N              203012\n",
       "lp             203012\n",
       "reference      203012\n",
       "source         203012\n",
       "output         203012\n",
       "system_full    203012\n",
       "dtype: int64"
      ]
     },
     "execution_count": 2,
     "metadata": {},
     "output_type": "execute_result"
    }
   ],
   "source": [
    "wmt17_no_metadata = pickle.load(open('../data/pickles/wmt17-sys_level-all.pkl', 'rb'))\n",
    "wmt17_no_metadata.count()"
   ]
  },
  {
   "cell_type": "code",
   "execution_count": 3,
   "metadata": {},
   "outputs": [],
   "source": [
    "# fix spaces in ad-good-raw file\n",
    "import gzip\n",
    "write = open('./data/ad-raw.csv', 'wt')\n",
    "read = gzip.open('./data/newstest2017-system-level-human/anon-proc-hits-sys-combined/analysis/ad-good-raw-redup.csv.gz', 'rt')\n",
    "\n",
    "# DUPLICATES all human judgments for systemA+systemB\n",
    "for line in read:\n",
    "    if '+' not in line:\n",
    "        write.write(line.replace(' ', '\\t'))\n",
    "    else:\n",
    "        line = line.split('\\t')\n",
    "        system = line[6]\n",
    "        for i in system.split('+'):\n",
    "            l = '\\t'.join(line[0:6]) + '\\t' + i + '\\t' + '\\t'.join(line[7:])\n",
    "            write.write(l)\n",
    "write.close()"
   ]
  },
  {
   "cell_type": "code",
   "execution_count": 4,
   "metadata": {
    "scrolled": true
   },
   "outputs": [
    {
     "name": "stderr",
     "output_type": "stream",
     "text": [
      "/nas/home/jwei/anaconda3/envs/notebook/lib/python3.8/site-packages/IPython/core/interactiveshell.py:3062: DtypeWarning: Columns (0) have mixed types.Specify dtype option on import or set low_memory=False.\n",
      "  has_raised = await self.run_ast_nodes(code_ast.body, cell_name,\n"
     ]
    },
    {
     "data": {
      "text/plain": [
       "HITId         375325\n",
       "WorkerId      375325\n",
       "Input.src     375325\n",
       "Input.trg     375325\n",
       "Input.item    375325\n",
       "hit           375325\n",
       "sys_id        375325\n",
       "rid           249632\n",
       "type          375325\n",
       "sid           375325\n",
       "score         375325\n",
       "time          375325\n",
       "dtype: int64"
      ]
     },
     "execution_count": 4,
     "metadata": {},
     "output_type": "execute_result"
    }
   ],
   "source": [
    "df = pd.read_csv('./data/ad-raw.csv', sep='\\t')\n",
    "df.count()"
   ]
  },
  {
   "cell_type": "code",
   "execution_count": 5,
   "metadata": {},
   "outputs": [
    {
     "data": {
      "text/html": [
       "<div>\n",
       "<style scoped>\n",
       "    .dataframe tbody tr th:only-of-type {\n",
       "        vertical-align: middle;\n",
       "    }\n",
       "\n",
       "    .dataframe tbody tr th {\n",
       "        vertical-align: top;\n",
       "    }\n",
       "\n",
       "    .dataframe thead th {\n",
       "        text-align: right;\n",
       "    }\n",
       "</style>\n",
       "<table border=\"1\" class=\"dataframe\">\n",
       "  <thead>\n",
       "    <tr style=\"text-align: right;\">\n",
       "      <th></th>\n",
       "      <th>HITId</th>\n",
       "      <th>WorkerId</th>\n",
       "      <th>Input.src</th>\n",
       "      <th>Input.trg</th>\n",
       "      <th>Input.item</th>\n",
       "      <th>hit</th>\n",
       "      <th>sys_id</th>\n",
       "      <th>rid</th>\n",
       "      <th>type</th>\n",
       "      <th>sid</th>\n",
       "      <th>score</th>\n",
       "      <th>time</th>\n",
       "      <th>lp</th>\n",
       "    </tr>\n",
       "  </thead>\n",
       "  <tbody>\n",
       "    <tr>\n",
       "      <th>0</th>\n",
       "      <td>374UMBUHN6UORKZ155BBXHOJ7ALCTX</td>\n",
       "      <td>M0106</td>\n",
       "      <td>cs</td>\n",
       "      <td>en</td>\n",
       "      <td>ad</td>\n",
       "      <td>0</td>\n",
       "      <td>online-B.0</td>\n",
       "      <td>0.0</td>\n",
       "      <td>SYSTEM</td>\n",
       "      <td>905</td>\n",
       "      <td>49</td>\n",
       "      <td>3062.0</td>\n",
       "      <td>cs-en</td>\n",
       "    </tr>\n",
       "  </tbody>\n",
       "</table>\n",
       "</div>"
      ],
      "text/plain": [
       "                            HITId WorkerId Input.src Input.trg Input.item  \\\n",
       "0  374UMBUHN6UORKZ155BBXHOJ7ALCTX    M0106        cs        en         ad   \n",
       "\n",
       "   hit      sys_id  rid    type  sid  score    time     lp  \n",
       "0    0  online-B.0  0.0  SYSTEM  905     49  3062.0  cs-en  "
      ]
     },
     "execution_count": 5,
     "metadata": {},
     "output_type": "execute_result"
    }
   ],
   "source": [
    "df['lp'] = df.apply(lambda x: '%s-%s' % (x['Input.src'], x['Input.trg']), axis=1)\n",
    "df.replace('ROCMT.5167', 'ROCMT.5183', inplace=True)\n",
    "df.replace('CASICT-cons.5144', 'CASICT-DCU-NMT.5144', inplace=True)\n",
    "df.replace('CASICT-cons.5157', 'CASICT-DCU-NMT.5157', inplace=True)\n",
    "df.replace('fbk-nmt-combination.4870', 'FBK.4870', inplace=True)\n",
    "df.head(1)"
   ]
  },
  {
   "cell_type": "code",
   "execution_count": 6,
   "metadata": {
    "scrolled": true
   },
   "outputs": [
    {
     "data": {
      "text/plain": [
       "HITId          375325\n",
       "WorkerId       375325\n",
       "Input.src      375325\n",
       "Input.trg      375325\n",
       "Input.item     375325\n",
       "hit            375325\n",
       "sys_id         375325\n",
       "rid            249632\n",
       "type           375325\n",
       "sid            375325\n",
       "score          375325\n",
       "time           375325\n",
       "lp             375325\n",
       "system_full    362523\n",
       "reference      362523\n",
       "source         362523\n",
       "output         362523\n",
       "dtype: int64"
      ]
     },
     "execution_count": 6,
     "metadata": {},
     "output_type": "execute_result"
    }
   ],
   "source": [
    "wmt17_metadata = df.merge(wmt17_no_metadata[['system_full', 'sid', 'lp', 'reference', 'source', 'output']],\n",
    "         left_on=['lp', 'sys_id', 'sid'],\n",
    "         right_on=['lp', 'system_full', 'sid'],\n",
    "         how='left'\n",
    "        )\n",
    "wmt17_metadata.count()"
   ]
  },
  {
   "cell_type": "code",
   "execution_count": 7,
   "metadata": {},
   "outputs": [
    {
     "data": {
      "text/plain": [
       "array(['tuning-task-afrl_4gb.sgm.0', 'tuning-task-ufal_4gb.sgm.0',\n",
       "       'tuning-task-afrl_8gb.sgm.0', 'tuning-task-baseline_8gb.sgm.0',\n",
       "       'tuning-task-denisov_4gb.sgm.0', 'tuning-task-ufal_8gb.sgm.0'],\n",
       "      dtype=object)"
      ]
     },
     "execution_count": 7,
     "metadata": {},
     "output_type": "execute_result"
    }
   ],
   "source": [
    "wmt17_no_metadata[wmt17_no_metadata.system.str.contains('tuning')].system_full.unique()"
   ]
  },
  {
   "cell_type": "code",
   "execution_count": 8,
   "metadata": {},
   "outputs": [
    {
     "data": {
      "text/plain": [
       "array(['tuning-task-baseline_4gb.sgm.0'], dtype=object)"
      ]
     },
     "execution_count": 8,
     "metadata": {},
     "output_type": "execute_result"
    }
   ],
   "source": [
    "wmt17_metadata[wmt17_metadata.system_full.isna() & (wmt17_metadata.type == 'SYSTEM')].sys_id.unique()"
   ]
  },
  {
   "cell_type": "code",
   "execution_count": 9,
   "metadata": {},
   "outputs": [
    {
     "name": "stdout",
     "output_type": "stream",
     "text": [
      "212989\n",
      "203012\n"
     ]
    }
   ],
   "source": [
    "print(len(wmt17_metadata.groupby(['lp', 'sid', 'sys_id'], as_index=False).count()))\n",
    "print(len(wmt17_no_metadata))"
   ]
  },
  {
   "cell_type": "code",
   "execution_count": 10,
   "metadata": {},
   "outputs": [],
   "source": [
    "wmt17_metadata = wmt17_metadata[['lp', 'HITId', 'WorkerId', 'score', 'time', 'sys_id', 'type', 'sid', 'reference', 'source', 'output']]"
   ]
  },
  {
   "cell_type": "code",
   "execution_count": 11,
   "metadata": {},
   "outputs": [],
   "source": [
    "pickle.dump(wmt17_metadata, open('pickles/wmt17_sys_metadata.pkl', 'wb'))"
   ]
  },
  {
   "cell_type": "markdown",
   "metadata": {},
   "source": [
    "### Segment-level data"
   ]
  },
  {
   "cell_type": "code",
   "execution_count": 12,
   "metadata": {
    "scrolled": true
   },
   "outputs": [
    {
     "data": {
      "text/plain": [
       "lp           5040\n",
       "system       5040\n",
       "sid          5040\n",
       "output       5040\n",
       "source       5040\n",
       "reference    5040\n",
       "score        5040\n",
       "sentBLEU     4421\n",
       "dtype: int64"
      ]
     },
     "execution_count": 12,
     "metadata": {},
     "output_type": "execute_result"
    }
   ],
   "source": [
    "wmt17_no_metadata = pickle.load(open('../data/pickles/wmt17-seg_level-agg.pkl', 'rb'))\n",
    "wmt17_no_metadata.count()"
   ]
  },
  {
   "cell_type": "code",
   "execution_count": 13,
   "metadata": {},
   "outputs": [],
   "source": [
    "# still missing en-zh \n",
    "# and en-ru"
   ]
  },
  {
   "cell_type": "code",
   "execution_count": 14,
   "metadata": {},
   "outputs": [
    {
     "data": {
      "text/html": [
       "<div>\n",
       "<style scoped>\n",
       "    .dataframe tbody tr th:only-of-type {\n",
       "        vertical-align: middle;\n",
       "    }\n",
       "\n",
       "    .dataframe tbody tr th {\n",
       "        vertical-align: top;\n",
       "    }\n",
       "\n",
       "    .dataframe thead th {\n",
       "        text-align: right;\n",
       "    }\n",
       "</style>\n",
       "<table border=\"1\" class=\"dataframe\">\n",
       "  <thead>\n",
       "    <tr style=\"text-align: right;\">\n",
       "      <th></th>\n",
       "      <th>Input.src</th>\n",
       "      <th>Input.trg</th>\n",
       "      <th>sys_id</th>\n",
       "      <th>sid</th>\n",
       "      <th>HITId</th>\n",
       "      <th>WorkerId</th>\n",
       "      <th>Input.item</th>\n",
       "      <th>hit</th>\n",
       "      <th>rid</th>\n",
       "      <th>type</th>\n",
       "      <th>score</th>\n",
       "      <th>time</th>\n",
       "    </tr>\n",
       "  </thead>\n",
       "  <tbody>\n",
       "    <tr>\n",
       "      <th>0</th>\n",
       "      <td>cs</td>\n",
       "      <td>en</td>\n",
       "      <td>PJATK.4760</td>\n",
       "      <td>37</td>\n",
       "      <td>17</td>\n",
       "      <td>17</td>\n",
       "      <td>17</td>\n",
       "      <td>17</td>\n",
       "      <td>17</td>\n",
       "      <td>17</td>\n",
       "      <td>17</td>\n",
       "      <td>17</td>\n",
       "    </tr>\n",
       "    <tr>\n",
       "      <th>1</th>\n",
       "      <td>cs</td>\n",
       "      <td>en</td>\n",
       "      <td>PJATK.4760</td>\n",
       "      <td>63</td>\n",
       "      <td>30</td>\n",
       "      <td>30</td>\n",
       "      <td>30</td>\n",
       "      <td>30</td>\n",
       "      <td>30</td>\n",
       "      <td>30</td>\n",
       "      <td>30</td>\n",
       "      <td>30</td>\n",
       "    </tr>\n",
       "    <tr>\n",
       "      <th>2</th>\n",
       "      <td>cs</td>\n",
       "      <td>en</td>\n",
       "      <td>PJATK.4760</td>\n",
       "      <td>65</td>\n",
       "      <td>16</td>\n",
       "      <td>16</td>\n",
       "      <td>16</td>\n",
       "      <td>16</td>\n",
       "      <td>16</td>\n",
       "      <td>16</td>\n",
       "      <td>16</td>\n",
       "      <td>16</td>\n",
       "    </tr>\n",
       "    <tr>\n",
       "      <th>3</th>\n",
       "      <td>cs</td>\n",
       "      <td>en</td>\n",
       "      <td>PJATK.4760</td>\n",
       "      <td>86</td>\n",
       "      <td>30</td>\n",
       "      <td>30</td>\n",
       "      <td>30</td>\n",
       "      <td>30</td>\n",
       "      <td>30</td>\n",
       "      <td>30</td>\n",
       "      <td>30</td>\n",
       "      <td>30</td>\n",
       "    </tr>\n",
       "    <tr>\n",
       "      <th>4</th>\n",
       "      <td>cs</td>\n",
       "      <td>en</td>\n",
       "      <td>PJATK.4760</td>\n",
       "      <td>109</td>\n",
       "      <td>15</td>\n",
       "      <td>15</td>\n",
       "      <td>15</td>\n",
       "      <td>15</td>\n",
       "      <td>15</td>\n",
       "      <td>15</td>\n",
       "      <td>15</td>\n",
       "      <td>15</td>\n",
       "    </tr>\n",
       "    <tr>\n",
       "      <th>...</th>\n",
       "      <td>...</td>\n",
       "      <td>...</td>\n",
       "      <td>...</td>\n",
       "      <td>...</td>\n",
       "      <td>...</td>\n",
       "      <td>...</td>\n",
       "      <td>...</td>\n",
       "      <td>...</td>\n",
       "      <td>...</td>\n",
       "      <td>...</td>\n",
       "      <td>...</td>\n",
       "      <td>...</td>\n",
       "    </tr>\n",
       "    <tr>\n",
       "      <th>3915</th>\n",
       "      <td>zh</td>\n",
       "      <td>en</td>\n",
       "      <td>xmunmt.5160+NRC.5172+uedin-nmt.5112</td>\n",
       "      <td>262</td>\n",
       "      <td>15</td>\n",
       "      <td>15</td>\n",
       "      <td>15</td>\n",
       "      <td>15</td>\n",
       "      <td>15</td>\n",
       "      <td>15</td>\n",
       "      <td>15</td>\n",
       "      <td>15</td>\n",
       "    </tr>\n",
       "    <tr>\n",
       "      <th>3916</th>\n",
       "      <td>zh</td>\n",
       "      <td>en</td>\n",
       "      <td>xmunmt.5160+afrl-mitll-opennmt.5109+uedin-nmt.5112</td>\n",
       "      <td>1414</td>\n",
       "      <td>30</td>\n",
       "      <td>30</td>\n",
       "      <td>30</td>\n",
       "      <td>30</td>\n",
       "      <td>30</td>\n",
       "      <td>30</td>\n",
       "      <td>30</td>\n",
       "      <td>30</td>\n",
       "    </tr>\n",
       "    <tr>\n",
       "      <th>3917</th>\n",
       "      <td>zh</td>\n",
       "      <td>en</td>\n",
       "      <td>xmunmt.5160+online-B.0</td>\n",
       "      <td>33</td>\n",
       "      <td>17</td>\n",
       "      <td>17</td>\n",
       "      <td>17</td>\n",
       "      <td>17</td>\n",
       "      <td>17</td>\n",
       "      <td>17</td>\n",
       "      <td>17</td>\n",
       "      <td>17</td>\n",
       "    </tr>\n",
       "    <tr>\n",
       "      <th>3918</th>\n",
       "      <td>zh</td>\n",
       "      <td>en</td>\n",
       "      <td>xmunmt.5160+uedin-nmt.5112</td>\n",
       "      <td>243</td>\n",
       "      <td>34</td>\n",
       "      <td>34</td>\n",
       "      <td>34</td>\n",
       "      <td>34</td>\n",
       "      <td>34</td>\n",
       "      <td>34</td>\n",
       "      <td>34</td>\n",
       "      <td>34</td>\n",
       "    </tr>\n",
       "    <tr>\n",
       "      <th>3919</th>\n",
       "      <td>zh</td>\n",
       "      <td>en</td>\n",
       "      <td>xmunmt.5160+uedin-nmt.5112</td>\n",
       "      <td>336</td>\n",
       "      <td>15</td>\n",
       "      <td>15</td>\n",
       "      <td>15</td>\n",
       "      <td>15</td>\n",
       "      <td>15</td>\n",
       "      <td>15</td>\n",
       "      <td>15</td>\n",
       "      <td>15</td>\n",
       "    </tr>\n",
       "  </tbody>\n",
       "</table>\n",
       "<p>3920 rows × 12 columns</p>\n",
       "</div>"
      ],
      "text/plain": [
       "     Input.src Input.trg                                              sys_id  \\\n",
       "0           cs        en                                          PJATK.4760   \n",
       "1           cs        en                                          PJATK.4760   \n",
       "2           cs        en                                          PJATK.4760   \n",
       "3           cs        en                                          PJATK.4760   \n",
       "4           cs        en                                          PJATK.4760   \n",
       "...        ...       ...                                                 ...   \n",
       "3915        zh        en                 xmunmt.5160+NRC.5172+uedin-nmt.5112   \n",
       "3916        zh        en  xmunmt.5160+afrl-mitll-opennmt.5109+uedin-nmt.5112   \n",
       "3917        zh        en                              xmunmt.5160+online-B.0   \n",
       "3918        zh        en                          xmunmt.5160+uedin-nmt.5112   \n",
       "3919        zh        en                          xmunmt.5160+uedin-nmt.5112   \n",
       "\n",
       "       sid  HITId  WorkerId  Input.item  hit  rid  type  score  time  \n",
       "0       37     17        17          17   17   17    17     17    17  \n",
       "1       63     30        30          30   30   30    30     30    30  \n",
       "2       65     16        16          16   16   16    16     16    16  \n",
       "3       86     30        30          30   30   30    30     30    30  \n",
       "4      109     15        15          15   15   15    15     15    15  \n",
       "...    ...    ...       ...         ...  ...  ...   ...    ...   ...  \n",
       "3915   262     15        15          15   15   15    15     15    15  \n",
       "3916  1414     30        30          30   30   30    30     30    30  \n",
       "3917    33     17        17          17   17   17    17     17    17  \n",
       "3918   243     34        34          34   34   34    34     34    34  \n",
       "3919   336     15        15          15   15   15    15     15    15  \n",
       "\n",
       "[3920 rows x 12 columns]"
      ]
     },
     "execution_count": 14,
     "metadata": {},
     "output_type": "execute_result"
    }
   ],
   "source": [
    "df = pd.read_csv('./data/newstest2017-segment-level-human/anon-proc-hits-seg-en/analysis/ad-good-raw.csv.gz', sep='\\t')\n",
    "df.groupby(['Input.src', 'Input.trg', 'sys_id', 'sid'], as_index=False).count()"
   ]
  },
  {
   "cell_type": "code",
   "execution_count": 15,
   "metadata": {},
   "outputs": [
    {
     "data": {
      "text/html": [
       "<div>\n",
       "<style scoped>\n",
       "    .dataframe tbody tr th:only-of-type {\n",
       "        vertical-align: middle;\n",
       "    }\n",
       "\n",
       "    .dataframe tbody tr th {\n",
       "        vertical-align: top;\n",
       "    }\n",
       "\n",
       "    .dataframe thead th {\n",
       "        text-align: right;\n",
       "    }\n",
       "</style>\n",
       "<table border=\"1\" class=\"dataframe\">\n",
       "  <thead>\n",
       "    <tr style=\"text-align: right;\">\n",
       "      <th></th>\n",
       "      <th>HITId</th>\n",
       "      <th>WorkerId</th>\n",
       "      <th>Input.src</th>\n",
       "      <th>Input.trg</th>\n",
       "      <th>Input.item</th>\n",
       "      <th>hit</th>\n",
       "      <th>sys_id</th>\n",
       "      <th>rid</th>\n",
       "      <th>type</th>\n",
       "      <th>sid</th>\n",
       "      <th>score</th>\n",
       "      <th>time</th>\n",
       "      <th>lp</th>\n",
       "      <th>system</th>\n",
       "    </tr>\n",
       "  </thead>\n",
       "  <tbody>\n",
       "    <tr>\n",
       "      <th>0</th>\n",
       "      <td>341YLJU21J4LKOROE0N17XDOKBZI22</td>\n",
       "      <td>E0829</td>\n",
       "      <td>cs</td>\n",
       "      <td>en</td>\n",
       "      <td>ad</td>\n",
       "      <td>2</td>\n",
       "      <td>online-A.0</td>\n",
       "      <td>0</td>\n",
       "      <td>SYSTEM</td>\n",
       "      <td>446</td>\n",
       "      <td>99</td>\n",
       "      <td>2086</td>\n",
       "      <td>cs-en</td>\n",
       "      <td>online-A.0</td>\n",
       "    </tr>\n",
       "  </tbody>\n",
       "</table>\n",
       "</div>"
      ],
      "text/plain": [
       "                            HITId WorkerId Input.src Input.trg Input.item  \\\n",
       "0  341YLJU21J4LKOROE0N17XDOKBZI22    E0829        cs        en         ad   \n",
       "\n",
       "   hit      sys_id  rid    type  sid  score  time     lp      system  \n",
       "0    2  online-A.0    0  SYSTEM  446     99  2086  cs-en  online-A.0  "
      ]
     },
     "execution_count": 15,
     "metadata": {},
     "output_type": "execute_result"
    }
   ],
   "source": [
    "df['lp'] = df.apply(lambda x: '%s-%s' % (x['Input.src'], x['Input.trg']), axis=1)\n",
    "df['system'] = df.sys_id.apply(lambda x: x.split('+')[0])\n",
    "df.replace('ROCMT.5167', 'ROCMT.5183', inplace=True)\n",
    "df.replace('CASICT-cons.5144', 'CASICT-DCU-NMT.5144', inplace=True)\n",
    "df.head(1)"
   ]
  },
  {
   "cell_type": "code",
   "execution_count": 16,
   "metadata": {},
   "outputs": [
    {
     "data": {
      "text/plain": [
       "HITId         88800\n",
       "WorkerId      88800\n",
       "Input.src     88800\n",
       "Input.trg     88800\n",
       "Input.item    88800\n",
       "hit           88800\n",
       "sys_id        88800\n",
       "rid           88800\n",
       "type          88800\n",
       "sid           88800\n",
       "score         88800\n",
       "time          88800\n",
       "lp            88800\n",
       "system        88800\n",
       "reference     88800\n",
       "source        88800\n",
       "output        88800\n",
       "dtype: int64"
      ]
     },
     "execution_count": 16,
     "metadata": {},
     "output_type": "execute_result"
    }
   ],
   "source": [
    "wmt17_metadata = df.merge(wmt17_no_metadata[['system', 'sid', 'lp', 'reference', 'source', 'output']],\n",
    "         left_on=['lp', 'system', 'sid'],\n",
    "         right_on=['lp', 'system', 'sid'],\n",
    "         how='left'\n",
    "        )\n",
    "wmt17_metadata.count()"
   ]
  },
  {
   "cell_type": "code",
   "execution_count": 17,
   "metadata": {},
   "outputs": [],
   "source": [
    "wmt17_metadata = wmt17_metadata[['lp', 'HITId', 'WorkerId', 'score', 'time', 'system', 'type', 'sid', 'reference', 'source', 'output']]"
   ]
  },
  {
   "cell_type": "code",
   "execution_count": 18,
   "metadata": {},
   "outputs": [],
   "source": [
    "pickle.dump(wmt17_metadata, open('pickles/wmt17_seg_metadata.pkl', 'wb'))"
   ]
  }
 ],
 "metadata": {
  "kernelspec": {
   "display_name": "Python 3",
   "language": "python",
   "name": "python3"
  },
  "language_info": {
   "codemirror_mode": {
    "name": "ipython",
    "version": 3
   },
   "file_extension": ".py",
   "mimetype": "text/x-python",
   "name": "python",
   "nbconvert_exporter": "python",
   "pygments_lexer": "ipython3",
   "version": "3.8.1"
  }
 },
 "nbformat": 4,
 "nbformat_minor": 4
}
