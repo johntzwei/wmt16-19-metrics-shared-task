{
 "cells": [
  {
   "cell_type": "code",
   "execution_count": 1,
   "metadata": {},
   "outputs": [],
   "source": [
    "import pandas as pd\n",
    "import glob\n",
    "import os\n",
    "import pickle"
   ]
  },
  {
   "cell_type": "markdown",
   "metadata": {},
   "source": [
    "### System-level data"
   ]
  },
  {
   "cell_type": "code",
   "execution_count": 2,
   "metadata": {
    "scrolled": true
   },
   "outputs": [
    {
     "data": {
      "text/plain": [
       "system       141905\n",
       "sid          141905\n",
       "raw_score    141905\n",
       "score        141905\n",
       "N            141905\n",
       "lp           141905\n",
       "reference    141905\n",
       "source       141905\n",
       "output       141905\n",
       "dtype: int64"
      ]
     },
     "execution_count": 2,
     "metadata": {},
     "output_type": "execute_result"
    }
   ],
   "source": [
    "wmt16_no_metadata = pickle.load(open('../data/pickles/wmt16-sys_level-all.pkl', 'rb'))\n",
    "wmt16_no_metadata.count()"
   ]
  },
  {
   "cell_type": "code",
   "execution_count": 3,
   "metadata": {},
   "outputs": [
    {
     "data": {
      "text/plain": [
       "HITId         210000\n",
       "WorkerId      210000\n",
       "Input.src     210000\n",
       "Input.trg     210000\n",
       "Input.item    210000\n",
       "hit           210000\n",
       "sys_id        210000\n",
       "rid           210000\n",
       "type          210000\n",
       "sid           210000\n",
       "score         210000\n",
       "time          210000\n",
       "dtype: int64"
      ]
     },
     "execution_count": 3,
     "metadata": {},
     "output_type": "execute_result"
    }
   ],
   "source": [
    "df = pd.read_csv('./data/da-human-judgments/wmt2016-DA-sys-anon/adequacy/analysis/ad-good-raw.csv', sep='\\t')\n",
    "df.count()"
   ]
  },
  {
   "cell_type": "code",
   "execution_count": 4,
   "metadata": {},
   "outputs": [
    {
     "data": {
      "text/html": [
       "<div>\n",
       "<style scoped>\n",
       "    .dataframe tbody tr th:only-of-type {\n",
       "        vertical-align: middle;\n",
       "    }\n",
       "\n",
       "    .dataframe tbody tr th {\n",
       "        vertical-align: top;\n",
       "    }\n",
       "\n",
       "    .dataframe thead th {\n",
       "        text-align: right;\n",
       "    }\n",
       "</style>\n",
       "<table border=\"1\" class=\"dataframe\">\n",
       "  <thead>\n",
       "    <tr style=\"text-align: right;\">\n",
       "      <th></th>\n",
       "      <th>HITId</th>\n",
       "      <th>WorkerId</th>\n",
       "      <th>Input.src</th>\n",
       "      <th>Input.trg</th>\n",
       "      <th>Input.item</th>\n",
       "      <th>hit</th>\n",
       "      <th>sys_id</th>\n",
       "      <th>rid</th>\n",
       "      <th>type</th>\n",
       "      <th>sid</th>\n",
       "      <th>score</th>\n",
       "      <th>time</th>\n",
       "      <th>lp</th>\n",
       "    </tr>\n",
       "  </thead>\n",
       "  <tbody>\n",
       "    <tr>\n",
       "      <th>0</th>\n",
       "      <td>3XJOUITW8URT45XA3297SQ9SRI6QT9</td>\n",
       "      <td>A0447</td>\n",
       "      <td>en</td>\n",
       "      <td>ru</td>\n",
       "      <td>ad</td>\n",
       "      <td>0</td>\n",
       "      <td>PROMT-Rule-based</td>\n",
       "      <td>0</td>\n",
       "      <td>SYSTEM</td>\n",
       "      <td>52</td>\n",
       "      <td>79</td>\n",
       "      <td>1661</td>\n",
       "      <td>en-ru</td>\n",
       "    </tr>\n",
       "  </tbody>\n",
       "</table>\n",
       "</div>"
      ],
      "text/plain": [
       "                            HITId WorkerId Input.src Input.trg Input.item  \\\n",
       "0  3XJOUITW8URT45XA3297SQ9SRI6QT9    A0447        en        ru         ad   \n",
       "\n",
       "   hit            sys_id  rid    type  sid  score  time     lp  \n",
       "0    0  PROMT-Rule-based    0  SYSTEM   52     79  1661  en-ru  "
      ]
     },
     "execution_count": 4,
     "metadata": {},
     "output_type": "execute_result"
    }
   ],
   "source": [
    "df['lp'] = df.apply(lambda x: '%s-%s' % (x['Input.src'], x['Input.trg']), axis=1)\n",
    "df.head(1)"
   ]
  },
  {
   "cell_type": "code",
   "execution_count": 5,
   "metadata": {
    "scrolled": true
   },
   "outputs": [
    {
     "data": {
      "text/plain": [
       "HITId         210000\n",
       "WorkerId      210000\n",
       "Input.src     210000\n",
       "Input.trg     210000\n",
       "Input.item    210000\n",
       "hit           210000\n",
       "sys_id        210000\n",
       "rid           210000\n",
       "type          210000\n",
       "sid           210000\n",
       "score         210000\n",
       "time          210000\n",
       "lp            210000\n",
       "system        210000\n",
       "reference     210000\n",
       "source        210000\n",
       "output        210000\n",
       "dtype: int64"
      ]
     },
     "execution_count": 5,
     "metadata": {},
     "output_type": "execute_result"
    }
   ],
   "source": [
    "wmt16_metadata = df.merge(wmt16_no_metadata[['system', 'sid', 'lp', 'reference', 'source', 'output']],\n",
    "         left_on=['lp', 'sys_id', 'sid'],\n",
    "         right_on=['lp', 'system', 'sid'],\n",
    "         how='left'\n",
    "        )\n",
    "wmt16_metadata.count()"
   ]
  },
  {
   "cell_type": "code",
   "execution_count": 6,
   "metadata": {},
   "outputs": [],
   "source": [
    "wmt16_metadata = wmt16_metadata[['lp', 'HITId', 'WorkerId', 'score', 'time', 'system', 'type', 'sid', 'reference', 'source', 'output']]"
   ]
  },
  {
   "cell_type": "code",
   "execution_count": 7,
   "metadata": {},
   "outputs": [],
   "source": [
    "pickle.dump(wmt16_metadata, open('pickles/wmt16_sys_metadata.pkl', 'wb'))"
   ]
  },
  {
   "cell_type": "markdown",
   "metadata": {},
   "source": [
    "### Segment-level data"
   ]
  },
  {
   "cell_type": "code",
   "execution_count": 8,
   "metadata": {
    "scrolled": true
   },
   "outputs": [
    {
     "data": {
      "text/plain": [
       "lp           3920\n",
       "system       3920\n",
       "sid          3920\n",
       "sentBLEU     3920\n",
       "score        3920\n",
       "output       3920\n",
       "reference    3920\n",
       "source       3920\n",
       "dtype: int64"
      ]
     },
     "execution_count": 8,
     "metadata": {},
     "output_type": "execute_result"
    }
   ],
   "source": [
    "wmt16_no_metadata = pickle.load(open('../data/pickles/wmt16-seg_level-agg.pkl', 'rb'))\n",
    "wmt16_no_metadata.count()"
   ]
  },
  {
   "cell_type": "code",
   "execution_count": 9,
   "metadata": {},
   "outputs": [
    {
     "data": {
      "text/html": [
       "<div>\n",
       "<style scoped>\n",
       "    .dataframe tbody tr th:only-of-type {\n",
       "        vertical-align: middle;\n",
       "    }\n",
       "\n",
       "    .dataframe tbody tr th {\n",
       "        vertical-align: top;\n",
       "    }\n",
       "\n",
       "    .dataframe thead th {\n",
       "        text-align: right;\n",
       "    }\n",
       "</style>\n",
       "<table border=\"1\" class=\"dataframe\">\n",
       "  <thead>\n",
       "    <tr style=\"text-align: right;\">\n",
       "      <th></th>\n",
       "      <th>Input.src</th>\n",
       "      <th>Input.trg</th>\n",
       "      <th>sys_id</th>\n",
       "      <th>sid</th>\n",
       "      <th>HITId</th>\n",
       "      <th>WorkerId</th>\n",
       "      <th>Input.item</th>\n",
       "      <th>hit</th>\n",
       "      <th>rid</th>\n",
       "      <th>type</th>\n",
       "      <th>score</th>\n",
       "      <th>time</th>\n",
       "    </tr>\n",
       "  </thead>\n",
       "  <tbody>\n",
       "    <tr>\n",
       "      <th>0</th>\n",
       "      <td>cs</td>\n",
       "      <td>en</td>\n",
       "      <td>PJATK</td>\n",
       "      <td>51</td>\n",
       "      <td>16</td>\n",
       "      <td>16</td>\n",
       "      <td>16</td>\n",
       "      <td>16</td>\n",
       "      <td>16</td>\n",
       "      <td>16</td>\n",
       "      <td>16</td>\n",
       "      <td>16</td>\n",
       "    </tr>\n",
       "    <tr>\n",
       "      <th>1</th>\n",
       "      <td>cs</td>\n",
       "      <td>en</td>\n",
       "      <td>PJATK</td>\n",
       "      <td>61</td>\n",
       "      <td>16</td>\n",
       "      <td>16</td>\n",
       "      <td>16</td>\n",
       "      <td>16</td>\n",
       "      <td>16</td>\n",
       "      <td>16</td>\n",
       "      <td>16</td>\n",
       "      <td>16</td>\n",
       "    </tr>\n",
       "    <tr>\n",
       "      <th>2</th>\n",
       "      <td>cs</td>\n",
       "      <td>en</td>\n",
       "      <td>PJATK</td>\n",
       "      <td>66</td>\n",
       "      <td>32</td>\n",
       "      <td>32</td>\n",
       "      <td>32</td>\n",
       "      <td>32</td>\n",
       "      <td>32</td>\n",
       "      <td>32</td>\n",
       "      <td>32</td>\n",
       "      <td>32</td>\n",
       "    </tr>\n",
       "    <tr>\n",
       "      <th>3</th>\n",
       "      <td>cs</td>\n",
       "      <td>en</td>\n",
       "      <td>PJATK</td>\n",
       "      <td>69</td>\n",
       "      <td>17</td>\n",
       "      <td>17</td>\n",
       "      <td>17</td>\n",
       "      <td>17</td>\n",
       "      <td>17</td>\n",
       "      <td>17</td>\n",
       "      <td>17</td>\n",
       "      <td>17</td>\n",
       "    </tr>\n",
       "    <tr>\n",
       "      <th>4</th>\n",
       "      <td>cs</td>\n",
       "      <td>en</td>\n",
       "      <td>PJATK</td>\n",
       "      <td>89</td>\n",
       "      <td>15</td>\n",
       "      <td>15</td>\n",
       "      <td>15</td>\n",
       "      <td>15</td>\n",
       "      <td>15</td>\n",
       "      <td>15</td>\n",
       "      <td>15</td>\n",
       "      <td>15</td>\n",
       "    </tr>\n",
       "    <tr>\n",
       "      <th>...</th>\n",
       "      <td>...</td>\n",
       "      <td>...</td>\n",
       "      <td>...</td>\n",
       "      <td>...</td>\n",
       "      <td>...</td>\n",
       "      <td>...</td>\n",
       "      <td>...</td>\n",
       "      <td>...</td>\n",
       "      <td>...</td>\n",
       "      <td>...</td>\n",
       "      <td>...</td>\n",
       "      <td>...</td>\n",
       "    </tr>\n",
       "    <tr>\n",
       "      <th>3915</th>\n",
       "      <td>tr</td>\n",
       "      <td>en</td>\n",
       "      <td>tbtk-syscomb</td>\n",
       "      <td>2622</td>\n",
       "      <td>30</td>\n",
       "      <td>30</td>\n",
       "      <td>30</td>\n",
       "      <td>30</td>\n",
       "      <td>30</td>\n",
       "      <td>30</td>\n",
       "      <td>30</td>\n",
       "      <td>30</td>\n",
       "    </tr>\n",
       "    <tr>\n",
       "      <th>3916</th>\n",
       "      <td>tr</td>\n",
       "      <td>en</td>\n",
       "      <td>tbtk-syscomb</td>\n",
       "      <td>2641</td>\n",
       "      <td>19</td>\n",
       "      <td>19</td>\n",
       "      <td>19</td>\n",
       "      <td>19</td>\n",
       "      <td>19</td>\n",
       "      <td>19</td>\n",
       "      <td>19</td>\n",
       "      <td>19</td>\n",
       "    </tr>\n",
       "    <tr>\n",
       "      <th>3917</th>\n",
       "      <td>tr</td>\n",
       "      <td>en</td>\n",
       "      <td>tbtk-syscomb</td>\n",
       "      <td>2674</td>\n",
       "      <td>15</td>\n",
       "      <td>15</td>\n",
       "      <td>15</td>\n",
       "      <td>15</td>\n",
       "      <td>15</td>\n",
       "      <td>15</td>\n",
       "      <td>15</td>\n",
       "      <td>15</td>\n",
       "    </tr>\n",
       "    <tr>\n",
       "      <th>3918</th>\n",
       "      <td>tr</td>\n",
       "      <td>en</td>\n",
       "      <td>tbtk-syscomb</td>\n",
       "      <td>2700</td>\n",
       "      <td>34</td>\n",
       "      <td>34</td>\n",
       "      <td>34</td>\n",
       "      <td>34</td>\n",
       "      <td>34</td>\n",
       "      <td>34</td>\n",
       "      <td>34</td>\n",
       "      <td>34</td>\n",
       "    </tr>\n",
       "    <tr>\n",
       "      <th>3919</th>\n",
       "      <td>tr</td>\n",
       "      <td>en</td>\n",
       "      <td>tbtk-syscomb</td>\n",
       "      <td>2847</td>\n",
       "      <td>34</td>\n",
       "      <td>34</td>\n",
       "      <td>34</td>\n",
       "      <td>34</td>\n",
       "      <td>34</td>\n",
       "      <td>34</td>\n",
       "      <td>34</td>\n",
       "      <td>34</td>\n",
       "    </tr>\n",
       "  </tbody>\n",
       "</table>\n",
       "<p>3920 rows × 12 columns</p>\n",
       "</div>"
      ],
      "text/plain": [
       "     Input.src Input.trg        sys_id   sid  HITId  WorkerId  Input.item  \\\n",
       "0           cs        en         PJATK    51     16        16          16   \n",
       "1           cs        en         PJATK    61     16        16          16   \n",
       "2           cs        en         PJATK    66     32        32          32   \n",
       "3           cs        en         PJATK    69     17        17          17   \n",
       "4           cs        en         PJATK    89     15        15          15   \n",
       "...        ...       ...           ...   ...    ...       ...         ...   \n",
       "3915        tr        en  tbtk-syscomb  2622     30        30          30   \n",
       "3916        tr        en  tbtk-syscomb  2641     19        19          19   \n",
       "3917        tr        en  tbtk-syscomb  2674     15        15          15   \n",
       "3918        tr        en  tbtk-syscomb  2700     34        34          34   \n",
       "3919        tr        en  tbtk-syscomb  2847     34        34          34   \n",
       "\n",
       "      hit  rid  type  score  time  \n",
       "0      16   16    16     16    16  \n",
       "1      16   16    16     16    16  \n",
       "2      32   32    32     32    32  \n",
       "3      17   17    17     17    17  \n",
       "4      15   15    15     15    15  \n",
       "...   ...  ...   ...    ...   ...  \n",
       "3915   30   30    30     30    30  \n",
       "3916   19   19    19     19    19  \n",
       "3917   15   15    15     15    15  \n",
       "3918   34   34    34     34    34  \n",
       "3919   34   34    34     34    34  \n",
       "\n",
       "[3920 rows x 12 columns]"
      ]
     },
     "execution_count": 9,
     "metadata": {},
     "output_type": "execute_result"
    }
   ],
   "source": [
    "df = pd.read_csv('./data/da-human-judgments/wmt2016-DA-seg-anon/analysis/ad-good-raw.csv', sep='\\t')\n",
    "df.groupby(['Input.src', 'Input.trg', 'sys_id', 'sid'], as_index=False).count()"
   ]
  },
  {
   "cell_type": "code",
   "execution_count": 10,
   "metadata": {},
   "outputs": [
    {
     "data": {
      "text/html": [
       "<div>\n",
       "<style scoped>\n",
       "    .dataframe tbody tr th:only-of-type {\n",
       "        vertical-align: middle;\n",
       "    }\n",
       "\n",
       "    .dataframe tbody tr th {\n",
       "        vertical-align: top;\n",
       "    }\n",
       "\n",
       "    .dataframe thead th {\n",
       "        text-align: right;\n",
       "    }\n",
       "</style>\n",
       "<table border=\"1\" class=\"dataframe\">\n",
       "  <thead>\n",
       "    <tr style=\"text-align: right;\">\n",
       "      <th></th>\n",
       "      <th>HITId</th>\n",
       "      <th>WorkerId</th>\n",
       "      <th>Input.src</th>\n",
       "      <th>Input.trg</th>\n",
       "      <th>Input.item</th>\n",
       "      <th>hit</th>\n",
       "      <th>sys_id</th>\n",
       "      <th>rid</th>\n",
       "      <th>type</th>\n",
       "      <th>sid</th>\n",
       "      <th>score</th>\n",
       "      <th>time</th>\n",
       "      <th>lp</th>\n",
       "    </tr>\n",
       "  </thead>\n",
       "  <tbody>\n",
       "    <tr>\n",
       "      <th>0</th>\n",
       "      <td>3XAOZ9UYRZRSVLL11JPXMKQXZYP1QJ</td>\n",
       "      <td>F0358</td>\n",
       "      <td>cs</td>\n",
       "      <td>en</td>\n",
       "      <td>ad</td>\n",
       "      <td>0</td>\n",
       "      <td>cu-mergedtrees</td>\n",
       "      <td>0</td>\n",
       "      <td>SYSTEM</td>\n",
       "      <td>1158</td>\n",
       "      <td>100</td>\n",
       "      <td>1328</td>\n",
       "      <td>cs-en</td>\n",
       "    </tr>\n",
       "  </tbody>\n",
       "</table>\n",
       "</div>"
      ],
      "text/plain": [
       "                            HITId WorkerId Input.src Input.trg Input.item  \\\n",
       "0  3XAOZ9UYRZRSVLL11JPXMKQXZYP1QJ    F0358        cs        en         ad   \n",
       "\n",
       "   hit          sys_id  rid    type   sid  score  time     lp  \n",
       "0    0  cu-mergedtrees    0  SYSTEM  1158    100  1328  cs-en  "
      ]
     },
     "execution_count": 10,
     "metadata": {},
     "output_type": "execute_result"
    }
   ],
   "source": [
    "df['lp'] = df.apply(lambda x: '%s-%s' % (x['Input.src'], x['Input.trg']), axis=1)\n",
    "df.head(1)"
   ]
  },
  {
   "cell_type": "code",
   "execution_count": 11,
   "metadata": {},
   "outputs": [
    {
     "data": {
      "text/plain": [
       "HITId         100300\n",
       "WorkerId      100300\n",
       "Input.src     100300\n",
       "Input.trg     100300\n",
       "Input.item    100300\n",
       "hit           100300\n",
       "sys_id        100300\n",
       "rid           100300\n",
       "type          100300\n",
       "sid           100300\n",
       "score         100300\n",
       "time          100300\n",
       "lp            100300\n",
       "system        100300\n",
       "reference     100300\n",
       "source        100300\n",
       "output        100300\n",
       "dtype: int64"
      ]
     },
     "execution_count": 11,
     "metadata": {},
     "output_type": "execute_result"
    }
   ],
   "source": [
    "wmt16_metadata = df.merge(wmt16_no_metadata[['system', 'sid', 'lp', 'reference', 'source', 'output']],\n",
    "         left_on=['lp', 'sys_id', 'sid'],\n",
    "         right_on=['lp', 'system', 'sid'],\n",
    "         how='left'\n",
    "        )\n",
    "wmt16_metadata.count()"
   ]
  },
  {
   "cell_type": "code",
   "execution_count": 12,
   "metadata": {},
   "outputs": [],
   "source": [
    "wmt16_metadata = wmt16_metadata[['lp', 'HITId', 'WorkerId', 'score', 'time', 'system', 'type', 'sid', 'reference', 'source', 'output']]"
   ]
  },
  {
   "cell_type": "code",
   "execution_count": 13,
   "metadata": {},
   "outputs": [],
   "source": [
    "pickle.dump(wmt16_metadata, open('pickles/wmt16_seg_metadata.pkl', 'wb'))"
   ]
  }
 ],
 "metadata": {
  "kernelspec": {
   "display_name": "Python 3",
   "language": "python",
   "name": "python3"
  },
  "language_info": {
   "codemirror_mode": {
    "name": "ipython",
    "version": 3
   },
   "file_extension": ".py",
   "mimetype": "text/x-python",
   "name": "python",
   "nbconvert_exporter": "python",
   "pygments_lexer": "ipython3",
   "version": "3.8.1"
  }
 },
 "nbformat": 4,
 "nbformat_minor": 4
}
