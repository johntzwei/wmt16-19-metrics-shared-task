{
 "cells": [
  {
   "cell_type": "code",
   "execution_count": 1,
   "metadata": {},
   "outputs": [],
   "source": [
    "import pandas as pd\n",
    "import glob\n",
    "import os\n",
    "import pickle"
   ]
  },
  {
   "cell_type": "markdown",
   "metadata": {},
   "source": [
    "### System-level data"
   ]
  },
  {
   "cell_type": "code",
   "execution_count": 2,
   "metadata": {
    "scrolled": true
   },
   "outputs": [
    {
     "data": {
      "text/plain": [
       "system       108927\n",
       "sid          108927\n",
       "raw_score    108927\n",
       "score        108927\n",
       "N            108927\n",
       "lp           108927\n",
       "reference    108927\n",
       "source       108927\n",
       "output       103501\n",
       "dtype: int64"
      ]
     },
     "execution_count": 2,
     "metadata": {},
     "output_type": "execute_result"
    }
   ],
   "source": [
    "wmt19_no_metadata = pickle.load(open('../data/pickles/wmt19-sys_level-all.pkl', 'rb'))\n",
    "wmt19_no_metadata.count()"
   ]
  },
  {
   "cell_type": "code",
   "execution_count": 3,
   "metadata": {},
   "outputs": [],
   "source": [
    "write = open('./data/ad-raw.csv', 'wt')\n",
    "read = open('./data/newstest2019-humaneval/mturk-sntlevel-humaneval-newstest2019/analysis/ad-good-raw.csv', 'rt')\n",
    "\n",
    "for line in read:\n",
    "    if '+' not in line:\n",
    "        write.write(line.replace(' ', '\\t'))\n",
    "    else:\n",
    "        line = line.split('\\t')\n",
    "        system = line[6]\n",
    "        for i in system.split('+'):\n",
    "            l = '\\t'.join(line[0:6]) + '\\t' + i + '\\t' + '\\t'.join(line[7:])\n",
    "            write.write(l)\n",
    "            #break\n",
    "write.close()"
   ]
  },
  {
   "cell_type": "code",
   "execution_count": 4,
   "metadata": {},
   "outputs": [
    {
     "data": {
      "text/plain": [
       "HITId         131720\n",
       "WorkerId      131720\n",
       "Input.src     131720\n",
       "Input.trg     131720\n",
       "Input.item    131720\n",
       "hit           131720\n",
       "sys_id        131720\n",
       "rid           131720\n",
       "type          131720\n",
       "sid           131720\n",
       "score         131720\n",
       "time          131720\n",
       "dtype: int64"
      ]
     },
     "execution_count": 4,
     "metadata": {},
     "output_type": "execute_result"
    }
   ],
   "source": [
    "df = pd.read_csv('./data/ad-raw.csv', sep='\\t')\n",
    "df.count()"
   ]
  },
  {
   "cell_type": "code",
   "execution_count": 5,
   "metadata": {},
   "outputs": [
    {
     "data": {
      "text/html": [
       "<div>\n",
       "<style scoped>\n",
       "    .dataframe tbody tr th:only-of-type {\n",
       "        vertical-align: middle;\n",
       "    }\n",
       "\n",
       "    .dataframe tbody tr th {\n",
       "        vertical-align: top;\n",
       "    }\n",
       "\n",
       "    .dataframe thead th {\n",
       "        text-align: right;\n",
       "    }\n",
       "</style>\n",
       "<table border=\"1\" class=\"dataframe\">\n",
       "  <thead>\n",
       "    <tr style=\"text-align: right;\">\n",
       "      <th></th>\n",
       "      <th>HITId</th>\n",
       "      <th>WorkerId</th>\n",
       "      <th>Input.src</th>\n",
       "      <th>Input.trg</th>\n",
       "      <th>Input.item</th>\n",
       "      <th>hit</th>\n",
       "      <th>sys_id</th>\n",
       "      <th>rid</th>\n",
       "      <th>type</th>\n",
       "      <th>sid</th>\n",
       "      <th>score</th>\n",
       "      <th>time</th>\n",
       "      <th>lp</th>\n",
       "    </tr>\n",
       "  </thead>\n",
       "  <tbody>\n",
       "    <tr>\n",
       "      <th>0</th>\n",
       "      <td>3MA5N0ATTCBZLJ39L2ULJO4IBBWWK2</td>\n",
       "      <td>M0765</td>\n",
       "      <td>fi</td>\n",
       "      <td>en</td>\n",
       "      <td>ad</td>\n",
       "      <td>1</td>\n",
       "      <td>parfda.6526</td>\n",
       "      <td>0</td>\n",
       "      <td>SYSTEM</td>\n",
       "      <td>367</td>\n",
       "      <td>71</td>\n",
       "      <td>626</td>\n",
       "      <td>fi-en</td>\n",
       "    </tr>\n",
       "  </tbody>\n",
       "</table>\n",
       "</div>"
      ],
      "text/plain": [
       "                            HITId WorkerId Input.src Input.trg Input.item  \\\n",
       "0  3MA5N0ATTCBZLJ39L2ULJO4IBBWWK2    M0765        fi        en         ad   \n",
       "\n",
       "   hit       sys_id  rid    type  sid  score  time     lp  \n",
       "0    1  parfda.6526    0  SYSTEM  367     71   626  fi-en  "
      ]
     },
     "execution_count": 5,
     "metadata": {},
     "output_type": "execute_result"
    }
   ],
   "source": [
    "df['lp'] = df.apply(lambda x: '%s-%s' % (x['Input.src'], x['Input.trg']), axis=1)\n",
    "df.head(1)"
   ]
  },
  {
   "cell_type": "code",
   "execution_count": 6,
   "metadata": {
    "scrolled": true
   },
   "outputs": [
    {
     "data": {
      "text/plain": [
       "HITId         131720\n",
       "WorkerId      131720\n",
       "Input.src     131720\n",
       "Input.trg     131720\n",
       "Input.item    131720\n",
       "hit           131720\n",
       "sys_id        131720\n",
       "rid           131720\n",
       "type          131720\n",
       "sid           131720\n",
       "score         131720\n",
       "time          131720\n",
       "lp            131720\n",
       "system        131720\n",
       "reference     131720\n",
       "source        131720\n",
       "output        131720\n",
       "dtype: int64"
      ]
     },
     "execution_count": 6,
     "metadata": {},
     "output_type": "execute_result"
    }
   ],
   "source": [
    "wmt19_metadata = df.merge(wmt19_no_metadata[['system', 'sid', 'lp', 'reference', 'source', 'output']],\n",
    "         left_on=['lp', 'sys_id', 'sid'],\n",
    "         right_on=['lp', 'system', 'sid'],\n",
    "         how='left'\n",
    "        )\n",
    "wmt19_metadata.count()"
   ]
  },
  {
   "cell_type": "code",
   "execution_count": 7,
   "metadata": {},
   "outputs": [
    {
     "data": {
      "text/html": [
       "<div>\n",
       "<style scoped>\n",
       "    .dataframe tbody tr th:only-of-type {\n",
       "        vertical-align: middle;\n",
       "    }\n",
       "\n",
       "    .dataframe tbody tr th {\n",
       "        vertical-align: top;\n",
       "    }\n",
       "\n",
       "    .dataframe thead th {\n",
       "        text-align: right;\n",
       "    }\n",
       "</style>\n",
       "<table border=\"1\" class=\"dataframe\">\n",
       "  <thead>\n",
       "    <tr style=\"text-align: right;\">\n",
       "      <th></th>\n",
       "      <th>HITId</th>\n",
       "      <th>WorkerId</th>\n",
       "      <th>Input.src</th>\n",
       "      <th>Input.trg</th>\n",
       "      <th>Input.item</th>\n",
       "      <th>hit</th>\n",
       "      <th>sys_id</th>\n",
       "      <th>rid</th>\n",
       "      <th>type</th>\n",
       "      <th>sid</th>\n",
       "      <th>score</th>\n",
       "      <th>time</th>\n",
       "      <th>lp</th>\n",
       "      <th>system</th>\n",
       "      <th>reference</th>\n",
       "      <th>source</th>\n",
       "      <th>output</th>\n",
       "    </tr>\n",
       "  </thead>\n",
       "  <tbody>\n",
       "  </tbody>\n",
       "</table>\n",
       "</div>"
      ],
      "text/plain": [
       "Empty DataFrame\n",
       "Columns: [HITId, WorkerId, Input.src, Input.trg, Input.item, hit, sys_id, rid, type, sid, score, time, lp, system, reference, source, output]\n",
       "Index: []"
      ]
     },
     "execution_count": 7,
     "metadata": {},
     "output_type": "execute_result"
    }
   ],
   "source": [
    "wmt19_metadata[wmt19_metadata.sys_id == 'REFERENCE']"
   ]
  },
  {
   "cell_type": "code",
   "execution_count": 8,
   "metadata": {},
   "outputs": [],
   "source": [
    "wmt19_metadata = wmt19_metadata[['lp', 'HITId', 'WorkerId', 'score', 'time', 'system', 'type', 'sid', 'reference', 'source', 'output']]"
   ]
  },
  {
   "cell_type": "code",
   "execution_count": 9,
   "metadata": {},
   "outputs": [],
   "source": [
    "pickle.dump(wmt19_metadata, open('pickles/wmt19_sys_metadata.pkl', 'wb'))"
   ]
  }
 ],
 "metadata": {
  "kernelspec": {
   "display_name": "Python 3",
   "language": "python",
   "name": "python3"
  },
  "language_info": {
   "codemirror_mode": {
    "name": "ipython",
    "version": 3
   },
   "file_extension": ".py",
   "mimetype": "text/x-python",
   "name": "python",
   "nbconvert_exporter": "python",
   "pygments_lexer": "ipython3",
   "version": "3.8.1"
  }
 },
 "nbformat": 4,
 "nbformat_minor": 4
}
