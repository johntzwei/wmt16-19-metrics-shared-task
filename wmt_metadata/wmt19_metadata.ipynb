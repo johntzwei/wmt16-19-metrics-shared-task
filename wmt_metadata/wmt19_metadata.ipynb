{
 "cells": [
  {
   "cell_type": "code",
   "execution_count": 185,
   "metadata": {},
   "outputs": [],
   "source": [
    "import pandas as pd\n",
    "import glob\n",
    "import os\n",
    "import pickle"
   ]
  },
  {
   "cell_type": "markdown",
   "metadata": {},
   "source": [
    "### System-level data"
   ]
  },
  {
   "cell_type": "code",
   "execution_count": 186,
   "metadata": {
    "scrolled": true
   },
   "outputs": [
    {
     "data": {
      "text/plain": [
       "system       129126\n",
       "sid          129126\n",
       "raw_score    129126\n",
       "score        129126\n",
       "N            129126\n",
       "lp           129126\n",
       "reference    129126\n",
       "source       129126\n",
       "output       123700\n",
       "dtype: int64"
      ]
     },
     "execution_count": 186,
     "metadata": {},
     "output_type": "execute_result"
    }
   ],
   "source": [
    "wmt19_no_metadata = pickle.load(open('../data/pickles/wmt19-sys_level-all.pkl', 'rb'))\n",
    "wmt19_no_metadata.count()"
   ]
  },
  {
   "cell_type": "code",
   "execution_count": 187,
   "metadata": {
    "scrolled": true
   },
   "outputs": [
    {
     "data": {
      "text/plain": [
       "HITId         131720\n",
       "WorkerId      131720\n",
       "Input.src     131720\n",
       "Input.trg     131720\n",
       "Input.item    131720\n",
       "hit           131720\n",
       "sys_id        131720\n",
       "rid           131720\n",
       "type          131720\n",
       "sid           131720\n",
       "score         131720\n",
       "time          131720\n",
       "dtype: int64"
      ]
     },
     "execution_count": 187,
     "metadata": {},
     "output_type": "execute_result"
    }
   ],
   "source": [
    "df = pd.read_csv('./data/newstest2019-humaneval/mturk-sntlevel-humaneval-newstest2019/analysis/ad-good-raw-redup.csv', sep='\\t')\n",
    "df.count()"
   ]
  },
  {
   "cell_type": "code",
   "execution_count": 188,
   "metadata": {},
   "outputs": [],
   "source": [
    "# turkle\n",
    "turkle_df = pd.read_csv('./data/newstest2019-humaneval/turkle-sntlevel-humaneval-newstest2019/analysis/ad-good-raw-redup.csv', sep='\\t')\n",
    "turkle_df['sys_id'] = turkle_df.sys_id.apply(lambda x: x[:-6])\n",
    "turkle_df.drop('hit', axis=1, inplace=True)\n",
    "df = pd.concat([df, turkle_df])"
   ]
  },
  {
   "cell_type": "code",
   "execution_count": 178,
   "metadata": {},
   "outputs": [
    {
     "data": {
      "text/html": [
       "<div>\n",
       "<style scoped>\n",
       "    .dataframe tbody tr th:only-of-type {\n",
       "        vertical-align: middle;\n",
       "    }\n",
       "\n",
       "    .dataframe tbody tr th {\n",
       "        vertical-align: top;\n",
       "    }\n",
       "\n",
       "    .dataframe thead th {\n",
       "        text-align: right;\n",
       "    }\n",
       "</style>\n",
       "<table border=\"1\" class=\"dataframe\">\n",
       "  <thead>\n",
       "    <tr style=\"text-align: right;\">\n",
       "      <th></th>\n",
       "      <th>HITId</th>\n",
       "      <th>WorkerId</th>\n",
       "      <th>Input.src</th>\n",
       "      <th>Input.trg</th>\n",
       "      <th>Input.item</th>\n",
       "      <th>hit</th>\n",
       "      <th>sys_id</th>\n",
       "      <th>rid</th>\n",
       "      <th>type</th>\n",
       "      <th>sid</th>\n",
       "      <th>score</th>\n",
       "      <th>time</th>\n",
       "      <th>lp</th>\n",
       "    </tr>\n",
       "  </thead>\n",
       "  <tbody>\n",
       "    <tr>\n",
       "      <th>0</th>\n",
       "      <td>3MA5N0ATTCBZLJ39L2ULJO4IBBWWK2</td>\n",
       "      <td>M0765</td>\n",
       "      <td>fi</td>\n",
       "      <td>en</td>\n",
       "      <td>ad</td>\n",
       "      <td>1.0</td>\n",
       "      <td>parfda.6526</td>\n",
       "      <td>0</td>\n",
       "      <td>SYSTEM</td>\n",
       "      <td>367</td>\n",
       "      <td>71</td>\n",
       "      <td>626</td>\n",
       "      <td>fi-en</td>\n",
       "    </tr>\n",
       "  </tbody>\n",
       "</table>\n",
       "</div>"
      ],
      "text/plain": [
       "                            HITId WorkerId Input.src Input.trg Input.item  \\\n",
       "0  3MA5N0ATTCBZLJ39L2ULJO4IBBWWK2    M0765        fi        en         ad   \n",
       "\n",
       "   hit       sys_id  rid    type  sid  score  time     lp  \n",
       "0  1.0  parfda.6526    0  SYSTEM  367     71   626  fi-en  "
      ]
     },
     "execution_count": 178,
     "metadata": {},
     "output_type": "execute_result"
    }
   ],
   "source": [
    "df['lp'] = df.apply(lambda x: '%s-%s' % (x['Input.src'], x['Input.trg']), axis=1)\n",
    "\n",
    "# fix unsupervised\n",
    "df['sys_id'] = df.apply(lambda x: 'Unsupervised.%s' % x['sys_id'].split('.')[-1] if 'Unsupervised.' in x['sys_id'] else x['sys_id'], axis=1)\n",
    "\n",
    "df.head(1)"
   ]
  },
  {
   "cell_type": "code",
   "execution_count": 180,
   "metadata": {
    "scrolled": true
   },
   "outputs": [
    {
     "data": {
      "text/plain": [
       "HITId         179519\n",
       "WorkerId      179519\n",
       "Input.src     179519\n",
       "Input.trg     179519\n",
       "Input.item    179519\n",
       "hit           131720\n",
       "sys_id        179519\n",
       "rid           179519\n",
       "type          179519\n",
       "sid           179519\n",
       "score         179519\n",
       "time          179519\n",
       "lp            179519\n",
       "system        161714\n",
       "reference     161714\n",
       "source        161714\n",
       "output        161714\n",
       "dtype: int64"
      ]
     },
     "execution_count": 180,
     "metadata": {},
     "output_type": "execute_result"
    }
   ],
   "source": [
    "wmt19_metadata = df.merge(wmt19_no_metadata[['system', 'sid', 'lp', 'reference', 'source', 'output']],\n",
    "         left_on=['lp', 'sys_id', 'sid'],\n",
    "         right_on=['lp', 'system', 'sid'],\n",
    "         how='left'\n",
    "        )\n",
    "wmt19_metadata.count()"
   ]
  },
  {
   "cell_type": "code",
   "execution_count": 183,
   "metadata": {},
   "outputs": [
    {
     "data": {
      "text/plain": [
       "zh-en    6599\n",
       "de-fr    4269\n",
       "de-cs    3859\n",
       "fr-de    3078\n",
       "Name: lp, dtype: int64"
      ]
     },
     "execution_count": 183,
     "metadata": {},
     "output_type": "execute_result"
    }
   ],
   "source": [
    "wmt19_metadata[wmt19_metadata.system.isna()].lp.value_counts()"
   ]
  },
  {
   "cell_type": "code",
   "execution_count": 184,
   "metadata": {},
   "outputs": [],
   "source": [
    "wmt19_metadata = wmt19_metadata[['lp', 'HITId', 'WorkerId', 'score', 'time', 'system', 'type', 'sid', 'reference', 'source', 'output']]"
   ]
  },
  {
   "cell_type": "code",
   "execution_count": 53,
   "metadata": {},
   "outputs": [],
   "source": [
    "pickle.dump(wmt19_metadata, open('pickles/wmt19_sys_metadata.pkl', 'wb'))"
   ]
  }
 ],
 "metadata": {
  "kernelspec": {
   "display_name": "Python 3",
   "language": "python",
   "name": "python3"
  },
  "language_info": {
   "codemirror_mode": {
    "name": "ipython",
    "version": 3
   },
   "file_extension": ".py",
   "mimetype": "text/x-python",
   "name": "python",
   "nbconvert_exporter": "python",
   "pygments_lexer": "ipython3",
   "version": "3.8.1"
  }
 },
 "nbformat": 4,
 "nbformat_minor": 4
}
