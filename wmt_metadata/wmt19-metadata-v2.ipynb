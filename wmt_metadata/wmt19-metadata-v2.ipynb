{
 "cells": [
  {
   "cell_type": "code",
   "execution_count": 1,
   "metadata": {},
   "outputs": [],
   "source": [
    "import glob\n",
    "import gzip\n",
    "import itertools\n",
    "import csv\n",
    "import io\n",
    "import pickle\n",
    "import hashlib\n",
    "import pandas as pd\n",
    "import numpy as np"
   ]
  },
  {
   "cell_type": "markdown",
   "metadata": {},
   "source": [
    "# WMT19 system-level data"
   ]
  },
  {
   "cell_type": "markdown",
   "metadata": {},
   "source": [
    "### WMT19 system-level data (raw)"
   ]
  },
  {
   "cell_type": "code",
   "execution_count": 2,
   "metadata": {},
   "outputs": [
    {
     "name": "stdout",
     "output_type": "stream",
     "text": [
      "131720\n",
      "47799\n",
      "179519\n"
     ]
    }
   ],
   "source": [
    "mturk = pd.read_csv('data/newstest2019-humaneval/mturk-sntlevel-humaneval-newstest2019/analysis/ad-good-raw-redup.csv', sep='\\t')\n",
    "print(len(mturk))\n",
    "turkle = pd.read_csv('data/newstest2019-humaneval/turkle-sntlevel-humaneval-newstest2019/analysis/ad-good-raw-redup.csv', sep='\\t')\n",
    "print(len(turkle))\n",
    "raw_seg_scores_da = pd.concat([mturk, turkle])\n",
    "print(len(raw_seg_scores_da))"
   ]
  },
  {
   "cell_type": "code",
   "execution_count": 3,
   "metadata": {},
   "outputs": [
    {
     "data": {
      "text/html": [
       "<div>\n",
       "<style scoped>\n",
       "    .dataframe tbody tr th:only-of-type {\n",
       "        vertical-align: middle;\n",
       "    }\n",
       "\n",
       "    .dataframe tbody tr th {\n",
       "        vertical-align: top;\n",
       "    }\n",
       "\n",
       "    .dataframe thead th {\n",
       "        text-align: right;\n",
       "    }\n",
       "</style>\n",
       "<table border=\"1\" class=\"dataframe\">\n",
       "  <thead>\n",
       "    <tr style=\"text-align: right;\">\n",
       "      <th></th>\n",
       "      <th>HITId</th>\n",
       "      <th>WorkerId</th>\n",
       "      <th>Input.src</th>\n",
       "      <th>Input.trg</th>\n",
       "      <th>Input.item</th>\n",
       "      <th>hit</th>\n",
       "      <th>sys_id</th>\n",
       "      <th>rid</th>\n",
       "      <th>type</th>\n",
       "      <th>sid</th>\n",
       "      <th>score</th>\n",
       "      <th>time</th>\n",
       "      <th>lp</th>\n",
       "    </tr>\n",
       "  </thead>\n",
       "  <tbody>\n",
       "    <tr>\n",
       "      <th>0</th>\n",
       "      <td>3MA5N0ATTCBZLJ39L2ULJO4IBBWWK2</td>\n",
       "      <td>M0765</td>\n",
       "      <td>fi</td>\n",
       "      <td>en</td>\n",
       "      <td>ad</td>\n",
       "      <td>1</td>\n",
       "      <td>parfda.6526</td>\n",
       "      <td>0</td>\n",
       "      <td>SYSTEM</td>\n",
       "      <td>367</td>\n",
       "      <td>71</td>\n",
       "      <td>626</td>\n",
       "      <td>fi-en</td>\n",
       "    </tr>\n",
       "  </tbody>\n",
       "</table>\n",
       "</div>"
      ],
      "text/plain": [
       "                            HITId WorkerId Input.src Input.trg Input.item  \\\n",
       "0  3MA5N0ATTCBZLJ39L2ULJO4IBBWWK2    M0765        fi        en         ad   \n",
       "\n",
       "   hit       sys_id  rid    type  sid  score  time     lp  \n",
       "0    1  parfda.6526    0  SYSTEM  367     71   626  fi-en  "
      ]
     },
     "execution_count": 3,
     "metadata": {},
     "output_type": "execute_result"
    }
   ],
   "source": [
    "raw_seg_scores_da['lp'] = raw_seg_scores_da.apply(lambda x: '%s-%s' % (x['Input.src'], x['Input.trg']), axis=1)\n",
    "raw_seg_scores_da.head(1)"
   ]
  },
  {
   "cell_type": "code",
   "execution_count": 4,
   "metadata": {},
   "outputs": [
    {
     "data": {
      "text/plain": [
       "array(['parfda.6526', 'TartuNLP-c.6905',\n",
       "       'apertium-fin-eng-unconstrained-fien.6449', 'Helsinki-NLP.6889',\n",
       "       'online-Y.0', 'GTCOM-Primary.6946', 'online-X.0', 'MSRA.NAO.6983',\n",
       "       'online-B.0', 'online-G.0', 'online-A.0', 'USYD.6995',\n",
       "       'UdS-DFKI.6861', 'UEDIN.6534', 'CUNI-T2T-transfer-guen.6431',\n",
       "       'NEU.6756', 'IITP-MT.6824', 'Ju-Saarland.6525',\n",
       "       'GTCOM-Primary.6969', 'aylien-mt-gu-en-multilingual.6826',\n",
       "       'IIITH-MT.6688', 'NICT.6603', 'NEU.6803', 'rerank-re.6540',\n",
       "       'eTranslation.6598', 'afrl-ewc.6659', 'MSRA.SCA.6976',\n",
       "       'Facebook-FAIR.6937', 'afrl-syscomb19.6782', 'TartuNLP-u.6650',\n",
       "       'NICT.6561', 'tilde-c-nmt.6876', 'NEU.6759', 'GTCOM-Primary.6998',\n",
       "       'TartuNLP-c.6908', 'tilde-nc-nmt.6881', 'MSRA.MASS.6945',\n",
       "       'JUMT.6616', 'talp-upc-2019-kken.6657', 'DBMS-KU-KKEN.6726',\n",
       "       'CUNI-T2T-transfer-kken.6436', 'UMD.6736', 'NICT.6770',\n",
       "       'rug-kken-morfessor.6677', 'Frank-s-MT.6127', 'NEU.6753',\n",
       "       'NRC-CNRC.6895', 'online-Y.0.de-cs', 'online-B.0.de-cs',\n",
       "       'NICT.6938.de-cs', 'CAiRE.6949.de-cs', 'online-G.0.de-cs',\n",
       "       'online-A.0.de-cs', 'lmu-unsup-nmt-de-cs.6845.de-cs',\n",
       "       'Unsupervised.de-cs.6935.de-cs', 'Unsupervised.de-cs.6929.de-cs',\n",
       "       'NEU_KingSoft.6766.de-cs', 'CUNI-Unsupervised-NER-post.6934.de-cs',\n",
       "       'online-G.0.de-fr', 'online-X.0.de-fr', 'online-A.0.de-fr',\n",
       "       'online-Y.0.de-fr', 'LIUM.6719.de-fr', 'online-B.0.de-fr',\n",
       "       'MSRA.MADL.6888.de-fr', 'Kyoto_University_T2T.6679.de-fr',\n",
       "       'lingua_custodia_primary.6690.de-fr', 'MLLP-UPV.6647.de-fr',\n",
       "       'TartuNLP-c.6897.de-fr', 'online-Y.0.fr-de', 'online-A.0.fr-de',\n",
       "       'TartuNLP-c.6514.fr-de', 'online-G.0.fr-de', 'LIUM.6720.fr-de',\n",
       "       'online-X.0.fr-de', 'online-B.0.fr-de', 'eTranslation.6262.fr-de',\n",
       "       'MSRA.MADL.6893.fr-de', 'MLLP-UPV.6654.fr-de', 'online-G.0.zh-en',\n",
       "       'NEU.6832.zh-en', 'Baidu-system.6940.zh-en', 'online-Y.0.zh-en',\n",
       "       'BTRANS.6825.zh-en', 'NICT.6814.zh-en', 'online-B.0.zh-en',\n",
       "       'MSRA.MASS.6996.zh-en', 'KSAI-system.6927.zh-en',\n",
       "       'Apprentice-c.6706.zh-en', 'UEDIN.6530.zh-en',\n",
       "       'BTRANS-ensemble.6992.zh-en', 'online-A.0.zh-en',\n",
       "       'online-X.0.zh-en', 'MSRA.MASS.6942.zh-en'], dtype=object)"
      ]
     },
     "execution_count": 4,
     "metadata": {},
     "output_type": "execute_result"
    }
   ],
   "source": [
    "raw_seg_scores_da.sys_id.unique()"
   ]
  },
  {
   "cell_type": "code",
   "execution_count": 5,
   "metadata": {
    "scrolled": false
   },
   "outputs": [
    {
     "name": "stdout",
     "output_type": "stream",
     "text": [
      "['parfda.6526' 'TartuNLP-c.6905'\n",
      " 'apertium-fin-eng-unconstrained-fien.6449' 'Helsinki-NLP.6889'\n",
      " 'online-Y.0' 'GTCOM-Primary.6946' 'online-X.0' 'MSRA.NAO.6983'\n",
      " 'online-B.0' 'online-G.0' 'online-A.0' 'USYD.6995' 'UdS-DFKI.6861'\n",
      " 'UEDIN.6534' 'CUNI-T2T-transfer-guen.6431' 'NEU.6756' 'IITP-MT.6824'\n",
      " 'Ju-Saarland.6525' 'GTCOM-Primary.6969'\n",
      " 'aylien-mt-gu-en-multilingual.6826' 'IIITH-MT.6688' 'NICT.6603'\n",
      " 'NEU.6803' 'rerank-re.6540' 'eTranslation.6598' 'afrl-ewc.6659'\n",
      " 'MSRA.SCA.6976' 'Facebook-FAIR.6937' 'afrl-syscomb19.6782'\n",
      " 'TartuNLP-u.6650' 'NICT.6561' 'tilde-c-nmt.6876' 'NEU.6759'\n",
      " 'GTCOM-Primary.6998' 'TartuNLP-c.6908' 'tilde-nc-nmt.6881'\n",
      " 'MSRA.MASS.6945' 'JUMT.6616' 'talp-upc-2019-kken.6657'\n",
      " 'DBMS-KU-KKEN.6726' 'CUNI-T2T-transfer-kken.6436' 'UMD.6736' 'NICT.6770'\n",
      " 'rug-kken-morfessor.6677' 'Frank-s-MT.6127' 'NEU.6753' 'NRC-CNRC.6895'\n",
      " 'NICT.6938' 'CAiRE.6949' 'lmu-unsup-nmt-de-cs.6845' 'Unsupervised.6935'\n",
      " 'Unsupervised.6929' 'NEU_KingSoft.6766' 'CUNI-Unsupervised-NER-post.6934'\n",
      " 'LIUM.6719' 'MSRA.MADL.6888' 'Kyoto_University_T2T.6679'\n",
      " 'lingua_custodia_primary.6690' 'MLLP-UPV.6647' 'TartuNLP-c.6897'\n",
      " 'TartuNLP-c.6514' 'LIUM.6720' 'eTranslation.6262' 'MSRA.MADL.6893'\n",
      " 'MLLP-UPV.6654' 'NEU.6832' 'Baidu-system.6940' 'BTRANS.6825' 'NICT.6814'\n",
      " 'MSRA.MASS.6996' 'KSAI-system.6927' 'Apprentice-c.6706' 'UEDIN.6530'\n",
      " 'BTRANS-ensemble.6992' 'MSRA.MASS.6942']\n"
     ]
    }
   ],
   "source": [
    "def rchop(s, sub):\n",
    "    return s[:-len(sub)] if s.endswith(sub) else s\n",
    "\n",
    "def cut_trailing_lp(x):\n",
    "    for i in ['.de-fr', '.fr-de', '.de-cs', '.cs-de', '.zh-en']:\n",
    "        if x.endswith(i):            \n",
    "            return rchop(x, i)\n",
    "    return x\n",
    "\n",
    "def fix_unsupervised(x):\n",
    "    if x.startswith('Unsupervised'):\n",
    "        parts = x.split('.')\n",
    "        return 'Unsupervised.%s' % parts[-1]\n",
    "    return x\n",
    "raw_seg_scores_da['sys_id'] = raw_seg_scores_da['sys_id'].apply(cut_trailing_lp)\n",
    "raw_seg_scores_da['sys_id'] = raw_seg_scores_da['sys_id'].apply(fix_unsupervised)\n",
    "print(raw_seg_scores_da.sys_id.unique())"
   ]
  },
  {
   "cell_type": "markdown",
   "metadata": {},
   "source": [
    "### WMT system-level (src, ref, out)"
   ]
  },
  {
   "cell_type": "code",
   "execution_count": 6,
   "metadata": {},
   "outputs": [
    {
     "data": {
      "text/html": [
       "<div>\n",
       "<style scoped>\n",
       "    .dataframe tbody tr th:only-of-type {\n",
       "        vertical-align: middle;\n",
       "    }\n",
       "\n",
       "    .dataframe tbody tr th {\n",
       "        vertical-align: top;\n",
       "    }\n",
       "\n",
       "    .dataframe thead th {\n",
       "        text-align: right;\n",
       "    }\n",
       "</style>\n",
       "<table border=\"1\" class=\"dataframe\">\n",
       "  <thead>\n",
       "    <tr style=\"text-align: right;\">\n",
       "      <th></th>\n",
       "      <th>HITId</th>\n",
       "      <th>WorkerId</th>\n",
       "      <th>Input.src</th>\n",
       "      <th>Input.trg</th>\n",
       "      <th>Input.item</th>\n",
       "      <th>hit</th>\n",
       "      <th>sys_id</th>\n",
       "      <th>rid</th>\n",
       "      <th>type</th>\n",
       "      <th>sid</th>\n",
       "      <th>score</th>\n",
       "      <th>time</th>\n",
       "      <th>lp</th>\n",
       "    </tr>\n",
       "  </thead>\n",
       "  <tbody>\n",
       "    <tr>\n",
       "      <th>0</th>\n",
       "      <td>3MA5N0ATTCBZLJ39L2ULJO4IBBWWK2</td>\n",
       "      <td>M0765</td>\n",
       "      <td>fi</td>\n",
       "      <td>en</td>\n",
       "      <td>ad</td>\n",
       "      <td>1</td>\n",
       "      <td>parfda.6526</td>\n",
       "      <td>0</td>\n",
       "      <td>SYSTEM</td>\n",
       "      <td>367</td>\n",
       "      <td>71</td>\n",
       "      <td>626</td>\n",
       "      <td>fi-en</td>\n",
       "    </tr>\n",
       "  </tbody>\n",
       "</table>\n",
       "</div>"
      ],
      "text/plain": [
       "                            HITId WorkerId Input.src Input.trg Input.item  \\\n",
       "0  3MA5N0ATTCBZLJ39L2ULJO4IBBWWK2    M0765        fi        en         ad   \n",
       "\n",
       "   hit       sys_id  rid    type  sid  score  time     lp  \n",
       "0    1  parfda.6526    0  SYSTEM  367     71   626  fi-en  "
      ]
     },
     "execution_count": 6,
     "metadata": {},
     "output_type": "execute_result"
    }
   ],
   "source": [
    "raw_seg_scores_da['lp'] = raw_seg_scores_da.apply(lambda x: '%s-%s' % (x['Input.src'], x['Input.trg']), axis=1)\n",
    "raw_seg_scores_da.head(1)"
   ]
  },
  {
   "cell_type": "code",
   "execution_count": 7,
   "metadata": {},
   "outputs": [
    {
     "data": {
      "text/html": [
       "<div>\n",
       "<style scoped>\n",
       "    .dataframe tbody tr th:only-of-type {\n",
       "        vertical-align: middle;\n",
       "    }\n",
       "\n",
       "    .dataframe tbody tr th {\n",
       "        vertical-align: top;\n",
       "    }\n",
       "\n",
       "    .dataframe thead th {\n",
       "        text-align: right;\n",
       "    }\n",
       "</style>\n",
       "<table border=\"1\" class=\"dataframe\">\n",
       "  <thead>\n",
       "    <tr style=\"text-align: right;\">\n",
       "      <th></th>\n",
       "      <th>HITId</th>\n",
       "      <th>WorkerId</th>\n",
       "      <th>Input.src</th>\n",
       "      <th>Input.trg</th>\n",
       "      <th>Input.item</th>\n",
       "      <th>hit</th>\n",
       "      <th>sys_id</th>\n",
       "      <th>rid</th>\n",
       "      <th>type</th>\n",
       "      <th>sid</th>\n",
       "      <th>score</th>\n",
       "      <th>time</th>\n",
       "      <th>lp</th>\n",
       "    </tr>\n",
       "  </thead>\n",
       "  <tbody>\n",
       "    <tr>\n",
       "      <th>0</th>\n",
       "      <td>3MA5N0ATTCBZLJ39L2ULJO4IBBWWK2</td>\n",
       "      <td>M0765</td>\n",
       "      <td>fi</td>\n",
       "      <td>en</td>\n",
       "      <td>ad</td>\n",
       "      <td>1</td>\n",
       "      <td>parfda.6526</td>\n",
       "      <td>0</td>\n",
       "      <td>SYSTEM</td>\n",
       "      <td>367</td>\n",
       "      <td>71</td>\n",
       "      <td>626</td>\n",
       "      <td>fi-en</td>\n",
       "    </tr>\n",
       "  </tbody>\n",
       "</table>\n",
       "</div>"
      ],
      "text/plain": [
       "                            HITId WorkerId Input.src Input.trg Input.item  \\\n",
       "0  3MA5N0ATTCBZLJ39L2ULJO4IBBWWK2    M0765        fi        en         ad   \n",
       "\n",
       "   hit       sys_id  rid    type  sid  score  time     lp  \n",
       "0    1  parfda.6526    0  SYSTEM  367     71   626  fi-en  "
      ]
     },
     "execution_count": 7,
     "metadata": {},
     "output_type": "execute_result"
    }
   ],
   "source": [
    "raw_seg_scores_da.head(1)"
   ]
  },
  {
   "cell_type": "code",
   "execution_count": 8,
   "metadata": {},
   "outputs": [
    {
     "name": "stdout",
     "output_type": "stream",
     "text": [
      "fi-en\n",
      "gu-en\n",
      "ru-en\n",
      "lt-en\n",
      "kk-en\n",
      "de-cs\n",
      "de-fr\n",
      "fr-de\n",
      "zh-en\n",
      "14411 179519\n",
      "179519\n"
     ]
    }
   ],
   "source": [
    "# srcs and refs\n",
    "srcs, refs, lps, sids = [], [], [], []\n",
    "for lp in raw_seg_scores_da.lp.unique():\n",
    "    fr, to = lp[:2], lp[3:]\n",
    "    print(lp)\n",
    "    \n",
    "    refs_ = list(open('data/wmt19-submitted-data/txt/references/newstest2019-%s%s-ref.%s' % (fr, to, to)))\n",
    "    srcs_ = list(open('data/wmt19-submitted-data/txt/sources/newstest2019-%s%s-src.%s' % (fr, to, fr)))\n",
    "    sids_ = list(range(1, len(refs_)+1))\n",
    "    refs.extend(refs_)\n",
    "    srcs.extend(srcs_)\n",
    "    sids.extend(sids_)\n",
    "    \n",
    "    assert(len(refs_) == len(srcs_))\n",
    "    lps.extend([lp]*len(refs_))\n",
    "    \n",
    "src_ref_df = pd.DataFrame({'reference' : refs, 'source':srcs, 'lp': lps, 'sid': sids})\n",
    "print(len(src_ref_df), len(raw_seg_scores_da))\n",
    "raw_seg_scores_da = raw_seg_scores_da.merge(src_ref_df, on=['lp','sid'], how='left')\n",
    "print(len(raw_seg_scores_da))"
   ]
  },
  {
   "cell_type": "code",
   "execution_count": 9,
   "metadata": {
    "scrolled": true
   },
   "outputs": [
    {
     "name": "stdout",
     "output_type": "stream",
     "text": [
      "391536 179519\n",
      "179519\n"
     ]
    }
   ],
   "source": [
    "# outs\n",
    "lps, outs, sids, syss = [], [], [], []\n",
    "for file in glob.glob('data/wmt19-submitted-data/txt/system-outputs/newstest2019/*/*'):\n",
    "    lp = file.split('.')[-1]\n",
    "    system = '.'.join(file.split('.')[1:-1])\n",
    "    #print(lp, system)\n",
    "    \n",
    "    if 'Unsupervised.' in system:\n",
    "        system = system[:13] + system[-4:]\n",
    "    elif '_' in system and not any(['NEU_KingSoft' in system, 'Kyoto_University' in system, 'lingua_custodia_primary' in system]):\n",
    "        system = system.replace('_', '-')\n",
    "    \n",
    "    outs_ = list(open(file, 'rt'))\n",
    "    if lp in ['de-fr', 'fr-de', 'de-cs', 'cs-de', 'zh-en']:\n",
    "        sids_ = list(range(0, len(outs_)))\n",
    "    else:\n",
    "        sids_ = list(range(1, len(outs_)+1))\n",
    "    lps_ = len(outs_) * [lp]\n",
    "    syss_ = len(outs_) * [system]\n",
    "    \n",
    "    outs.extend(outs_)\n",
    "    sids.extend(sids_)\n",
    "    lps.extend(lps_)\n",
    "    syss.extend(syss_)\n",
    "\n",
    "out_df = pd.DataFrame({'lp': lps, 'output':outs, 'sid': sids, 'system': syss})\n",
    "print(len(out_df), len(raw_seg_scores_da))\n",
    "raw_seg_scores_da = raw_seg_scores_da.merge(out_df, left_on=['lp','sid', 'sys_id'], right_on=['lp', 'sid', 'system'], how='left')\n",
    "print(len(raw_seg_scores_da))"
   ]
  },
  {
   "cell_type": "code",
   "execution_count": 10,
   "metadata": {
    "scrolled": true
   },
   "outputs": [
    {
     "data": {
      "text/plain": [
       "HITId         179519\n",
       "WorkerId      179519\n",
       "Input.src     179519\n",
       "Input.trg     179519\n",
       "Input.item    179519\n",
       "hit           179519\n",
       "sys_id        179519\n",
       "rid           179519\n",
       "type          179519\n",
       "sid           179519\n",
       "score         179519\n",
       "time          179519\n",
       "lp            179519\n",
       "reference     179490\n",
       "source        179490\n",
       "output        179519\n",
       "system        179519\n",
       "dtype: int64"
      ]
     },
     "execution_count": 10,
     "metadata": {},
     "output_type": "execute_result"
    }
   ],
   "source": [
    "raw_seg_scores_da.count()"
   ]
  },
  {
   "cell_type": "code",
   "execution_count": 11,
   "metadata": {},
   "outputs": [
    {
     "data": {
      "text/html": [
       "<div>\n",
       "<style scoped>\n",
       "    .dataframe tbody tr th:only-of-type {\n",
       "        vertical-align: middle;\n",
       "    }\n",
       "\n",
       "    .dataframe tbody tr th {\n",
       "        vertical-align: top;\n",
       "    }\n",
       "\n",
       "    .dataframe thead th {\n",
       "        text-align: right;\n",
       "    }\n",
       "</style>\n",
       "<table border=\"1\" class=\"dataframe\">\n",
       "  <thead>\n",
       "    <tr style=\"text-align: right;\">\n",
       "      <th></th>\n",
       "      <th>HITId</th>\n",
       "      <th>WorkerId</th>\n",
       "      <th>Input.src</th>\n",
       "      <th>Input.trg</th>\n",
       "      <th>Input.item</th>\n",
       "      <th>hit</th>\n",
       "      <th>sys_id</th>\n",
       "      <th>rid</th>\n",
       "      <th>type</th>\n",
       "      <th>sid</th>\n",
       "      <th>score</th>\n",
       "      <th>time</th>\n",
       "      <th>lp</th>\n",
       "      <th>reference</th>\n",
       "      <th>source</th>\n",
       "      <th>output</th>\n",
       "      <th>system</th>\n",
       "    </tr>\n",
       "  </thead>\n",
       "  <tbody>\n",
       "  </tbody>\n",
       "</table>\n",
       "</div>"
      ],
      "text/plain": [
       "Empty DataFrame\n",
       "Columns: [HITId, WorkerId, Input.src, Input.trg, Input.item, hit, sys_id, rid, type, sid, score, time, lp, reference, source, output, system]\n",
       "Index: []"
      ]
     },
     "execution_count": 11,
     "metadata": {},
     "output_type": "execute_result"
    }
   ],
   "source": [
    "raw_seg_scores_da[raw_seg_scores_da.system.isna()]"
   ]
  },
  {
   "cell_type": "markdown",
   "metadata": {},
   "source": [
    "### Pickle"
   ]
  },
  {
   "cell_type": "code",
   "execution_count": 12,
   "metadata": {},
   "outputs": [],
   "source": [
    "pickle.dump(raw_seg_scores_da, open('./pickles/wmt19_sys_metadata.pkl', 'wb'))\n",
    "#pickle.dump(sys_scores_da, open('data/pickles/wmt19-sys_level-agg.pkl', 'wb'))"
   ]
  }
 ],
 "metadata": {
  "kernelspec": {
   "display_name": "Python 3",
   "language": "python",
   "name": "python3"
  },
  "language_info": {
   "codemirror_mode": {
    "name": "ipython",
    "version": 3
   },
   "file_extension": ".py",
   "mimetype": "text/x-python",
   "name": "python",
   "nbconvert_exporter": "python",
   "pygments_lexer": "ipython3",
   "version": "3.8.1"
  }
 },
 "nbformat": 4,
 "nbformat_minor": 2
}
